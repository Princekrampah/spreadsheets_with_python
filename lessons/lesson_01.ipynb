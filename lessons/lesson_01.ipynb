{
 "cells": [
  {
   "cell_type": "code",
   "execution_count": 1,
   "metadata": {},
   "outputs": [],
   "source": [
    "import openpyxl "
   ]
  },
  {
   "cell_type": "code",
   "execution_count": 3,
   "metadata": {},
   "outputs": [],
   "source": [
    "wb = openpyxl.load_workbook(\"../data/videogamesales.xlsx\")"
   ]
  },
  {
   "cell_type": "markdown",
   "metadata": {},
   "source": [
    "#### Selecting Worksheet To Use"
   ]
  },
  {
   "cell_type": "code",
   "execution_count": 4,
   "metadata": {},
   "outputs": [],
   "source": [
    "# First approach to doing this\n",
    "ws = wb.active"
   ]
  },
  {
   "cell_type": "code",
   "execution_count": 5,
   "metadata": {},
   "outputs": [],
   "source": [
    "# Second approach to doing this\n",
    "ws = wb['vgsales']"
   ]
  },
  {
   "cell_type": "code",
   "execution_count": 6,
   "metadata": {},
   "outputs": [
    {
     "name": "stdout",
     "output_type": "stream",
     "text": [
      "Total number of rows: 16328. And total number of columns: 10\n"
     ]
    }
   ],
   "source": [
    "print('Total number of rows: '+str(ws.max_row)+'. And total number of columns: '+str(ws.max_column))"
   ]
  },
  {
   "cell_type": "markdown",
   "metadata": {},
   "source": [
    "#### Reading Data From Cells"
   ]
  },
  {
   "cell_type": "code",
   "execution_count": 7,
   "metadata": {},
   "outputs": [
    {
     "name": "stdout",
     "output_type": "stream",
     "text": [
      "The value in cell A1 is: Rank\n"
     ]
    }
   ],
   "source": [
    "print('The value in cell A1 is: '+ws['A1'].value)"
   ]
  },
  {
   "cell_type": "markdown",
   "metadata": {},
   "source": [
    "#### Reading From Multiple Cells"
   ]
  },
  {
   "cell_type": "code",
   "execution_count": 8,
   "metadata": {},
   "outputs": [
    {
     "name": "stdout",
     "output_type": "stream",
     "text": [
      "['Rank', 'Name', 'Platform', 'Year', 'Genre', 'Publisher', 'NA_Sales', 'EU_Sales', 'JP_Sales', 'Other_Sales']\n"
     ]
    }
   ],
   "source": [
    "values = [ws.cell(row=1,column=i).value for i in range(1,ws.max_column+1)]\n",
    "print(values)"
   ]
  },
  {
   "cell_type": "code",
   "execution_count": 9,
   "metadata": {},
   "outputs": [
    {
     "name": "stdout",
     "output_type": "stream",
     "text": [
      "['Wii Sports', 'Super Mario Bros.', 'Mario Kart Wii', 'Wii Sports Resort', 'Pokemon Red/Pokemon Blue', 'Tetris', 'New Super Mario Bros.', 'Wii Play', 'New Super Mario Bros. Wii', 'Duck Hunt']\n"
     ]
    }
   ],
   "source": [
    "data=[ws.cell(row=i,column=2).value for i in range(2,12)]\n",
    "print(data)"
   ]
  },
  {
   "cell_type": "markdown",
   "metadata": {},
   "source": [
    "#### reading data from a range of cells (from column 1 to 6)"
   ]
  },
  {
   "cell_type": "code",
   "execution_count": 11,
   "metadata": {},
   "outputs": [
    {
     "name": "stdout",
     "output_type": "stream",
     "text": [
      "Rank    Name                               Platform  Year      Genre          Publisher      \n",
      "1       Wii Sports                         Wii       2006      Sports         Nintendo       \n",
      "2       Super Mario Bros.                  NES       1985      Platform       Nintendo       \n",
      "3       Mario Kart Wii                     Wii       2008      Racing         Nintendo       \n",
      "4       Wii Sports Resort                  Wii       2009      Sports         Nintendo       \n",
      "5       Pokemon Red/Pokemon Blue           GB        1996      Role-Playing   Nintendo       \n",
      "6       Tetris                             GB        1989      Puzzle         Nintendo       \n",
      "7       New Super Mario Bros.              DS        2006      Platform       Nintendo       \n",
      "8       Wii Play                           Wii       2006      Misc           Nintendo       \n",
      "9       New Super Mario Bros. Wii          Wii       2009      Platform       Nintendo       \n",
      "10      Duck Hunt                          NES       1984      Shooter        Nintendo       \n"
     ]
    }
   ],
   "source": [
    "my_list = list()\n",
    "\n",
    "for value in ws.iter_rows(\n",
    "    min_row=1, max_row=11, min_col=1, max_col=6, \n",
    "    values_only=True):\n",
    "    my_list.append(value)\n",
    "    \n",
    "for ele1,ele2,ele3,ele4,ele5,ele6 in my_list:\n",
    "    print(\"{:<8}{:<35}{:<10}{:<10}{:<15}{:<15}\".format(ele1,ele2,ele3,ele4,ele5,ele6))"
   ]
  },
  {
   "cell_type": "code",
   "execution_count": 14,
   "metadata": {},
   "outputs": [
    {
     "data": {
      "text/plain": [
       "[('Rank', 'Name', 'Platform', 'Year', 'Genre', 'Publisher'),\n",
       " (1, 'Wii Sports', 'Wii', 2006, 'Sports', 'Nintendo'),\n",
       " (2, 'Super Mario Bros.', 'NES', 1985, 'Platform', 'Nintendo'),\n",
       " (3, 'Mario Kart Wii', 'Wii', 2008, 'Racing', 'Nintendo'),\n",
       " (4, 'Wii Sports Resort', 'Wii', 2009, 'Sports', 'Nintendo'),\n",
       " (5, 'Pokemon Red/Pokemon Blue', 'GB', 1996, 'Role-Playing', 'Nintendo'),\n",
       " (6, 'Tetris', 'GB', 1989, 'Puzzle', 'Nintendo'),\n",
       " (7, 'New Super Mario Bros.', 'DS', 2006, 'Platform', 'Nintendo'),\n",
       " (8, 'Wii Play', 'Wii', 2006, 'Misc', 'Nintendo'),\n",
       " (9, 'New Super Mario Bros. Wii', 'Wii', 2009, 'Platform', 'Nintendo'),\n",
       " (10, 'Duck Hunt', 'NES', 1984, 'Shooter', 'Nintendo')]"
      ]
     },
     "execution_count": 14,
     "metadata": {},
     "output_type": "execute_result"
    }
   ],
   "source": [
    "my_list"
   ]
  },
  {
   "cell_type": "markdown",
   "metadata": {},
   "source": [
    "#### Writing to Excel Files with Openpyxl\n",
    "\n",
    "**NOTE:** Once you write to a file, you have to save the file again to have the changes on the file.\n",
    "\n",
    "##### 1. Writing To A Cell\n",
    "\n",
    "When writing to a cell, there are two ways you can go about doing this."
   ]
  },
  {
   "cell_type": "code",
   "execution_count": 15,
   "metadata": {},
   "outputs": [],
   "source": [
    "# 1. First approach\n",
    "ws[\"k1\"] = \"Sum of Global Sales\""
   ]
  },
  {
   "cell_type": "code",
   "execution_count": 16,
   "metadata": {},
   "outputs": [],
   "source": [
    "wb.save(\"../data/videogamesales.xlsx\")"
   ]
  },
  {
   "cell_type": "code",
   "execution_count": 17,
   "metadata": {},
   "outputs": [],
   "source": [
    "ws.cell(row=1,column=11).value = \"Sum of Global Sales\""
   ]
  },
  {
   "cell_type": "code",
   "execution_count": 18,
   "metadata": {},
   "outputs": [],
   "source": [
    "wb.save(\"../data/videogamesales.xlsx\")"
   ]
  },
  {
   "cell_type": "markdown",
   "metadata": {},
   "source": [
    "#### 2. Creating a New Column"
   ]
  },
  {
   "cell_type": "code",
   "execution_count": 19,
   "metadata": {},
   "outputs": [
    {
     "name": "stdout",
     "output_type": "stream",
     "text": [
      "82.74000000000001\n"
     ]
    }
   ],
   "source": [
    "row_position = 2\n",
    "col_postion = 7\n",
    "\n",
    "total_sales = (ws.cell(row=row_position,column=col_postion).value + \n",
    "               ws.cell(row=row_position,column=col_postion + 1).value + \n",
    "               ws.cell(row=row_position,column=col_postion + 2).value + \n",
    "               ws.cell(row=row_position,column=col_postion + 3).value\n",
    "            )\n",
    "\n",
    "print(total_sales)"
   ]
  },
  {
   "cell_type": "code",
   "execution_count": 21,
   "metadata": {},
   "outputs": [],
   "source": [
    "ws.cell(row=row_position,column=col_postion + 4).value = total_sales\n",
    "wb.save(\"../data/videogamesales.xlsx\")"
   ]
  },
  {
   "cell_type": "code",
   "execution_count": 22,
   "metadata": {},
   "outputs": [],
   "source": [
    "for row in range(2, ws.max_row+1):\n",
    "    total_sales = (ws.cell(row=row,column=7).value + \n",
    "                   ws.cell(row=row,column=8).value + \n",
    "                   ws.cell(row=row,column=9).value + \n",
    "                   ws.cell(row=row,column=10).value\n",
    "                )\n",
    "    ws.cell(row=row,column=11).value = total_sales\n",
    "    \n",
    "wb.save(\"../data/videogamesales.xlsx\")"
   ]
  },
  {
   "cell_type": "markdown",
   "metadata": {},
   "source": [
    "##### 3. Appending New Rows"
   ]
  },
  {
   "cell_type": "code",
   "execution_count": 23,
   "metadata": {},
   "outputs": [],
   "source": [
    "new_row = (1,'The Legend of Zelda',1986,'Action','Nintendo',3.74,0.93,1.69,0.14,6.51,6.5)\n",
    "\n",
    "ws.append(new_row)\n",
    "    \n",
    "wb.save(\"../data/videogamesales.xlsx\")"
   ]
  },
  {
   "cell_type": "code",
   "execution_count": 25,
   "metadata": {},
   "outputs": [
    {
     "name": "stdout",
     "output_type": "stream",
     "text": [
      "[1, 'The Legend of Zelda', 1986, 'Action', 'Nintendo', 3.74, 0.93, 1.69, 0.14, 6.51, 6.5]\n"
     ]
    }
   ],
   "source": [
    "# Verify the new row was added\n",
    "values = [ws.cell(row=ws.max_row,column=i).value for i in range(1,ws.max_column+1)]\n",
    "print(values)"
   ]
  },
  {
   "cell_type": "markdown",
   "metadata": {},
   "source": [
    "#### Deleting Rows"
   ]
  },
  {
   "cell_type": "code",
   "execution_count": 26,
   "metadata": {},
   "outputs": [],
   "source": [
    "ws.delete_rows(ws.max_row, 1) # Row number, number of rows to delete\n",
    "wb.save(\"../data/videogamesales.xlsx\")"
   ]
  },
  {
   "cell_type": "code",
   "execution_count": 28,
   "metadata": {},
   "outputs": [
    {
     "name": "stdout",
     "output_type": "stream",
     "text": [
      "[16600, 'Spirits & Spells', 'GBA', 2003, 'Platform', 'Wanadoo', 0.01, 0, 0, 0, 0.01]\n"
     ]
    }
   ],
   "source": [
    "# verify deletion\n",
    "values = [ws.cell(row=ws.max_row,column=i).value for i in range(1,ws.max_column+1)]\n",
    "print(values)"
   ]
  },
  {
   "cell_type": "markdown",
   "metadata": {},
   "source": [
    "#### Working With Excel Formulas"
   ]
  },
  {
   "cell_type": "code",
   "execution_count": 32,
   "metadata": {},
   "outputs": [],
   "source": [
    "ws[\"P1\"] = \"Total NA_Sales\"\n",
    "ws[\"P2\"] = f\"=SUM(G2:G{ws.max_row})\"\n",
    "# write to disk\n",
    "wb.save(\"../data/videogamesales.xlsx\")"
   ]
  },
  {
   "cell_type": "code",
   "execution_count": 33,
   "metadata": {},
   "outputs": [],
   "source": [
    "ws[\"Q1\"] = \"Number Of Populated Cells\"\n",
    "ws[\"Q2\"] = f\"=COUNTA(E2:E{ws.max_row})\"\n",
    "# write to disk\n",
    "wb.save(\"../data/videogamesales.xlsx\")"
   ]
  },
  {
   "cell_type": "code",
   "execution_count": 34,
   "metadata": {},
   "outputs": [],
   "source": [
    "ws['R1'] = 'Number of Rows with Sports Genre'\n",
    "ws['R2'] = f'=COUNTIF(E2:E{ws.max_row}, \"Sports\")'\n",
    "# write to disk\n",
    "wb.save(\"../data/videogamesales.xlsx\")"
   ]
  },
  {
   "cell_type": "code",
   "execution_count": 35,
   "metadata": {},
   "outputs": [],
   "source": [
    "ws['S1'] = 'Total Sports Sales'\n",
    "ws['S2'] = f'=SUMIF(E2:E{ws.max_row}, \"Sports\",K2:K{ws.max_row})'\n",
    "# write to disk\n",
    "wb.save(\"../data/videogamesales.xlsx\")"
   ]
  },
  {
   "cell_type": "code",
   "execution_count": 37,
   "metadata": {},
   "outputs": [],
   "source": [
    "# Rounds a number to the nearest multiple of specified significance\n",
    "ws['T1'] = 'Rounded Sum of Sports Sales'\n",
    "ws['T2'] = '=CEILING(S2,25)'\n",
    "\n",
    "wb.save('../data/videogamesales.xlsx')"
   ]
  },
  {
   "cell_type": "markdown",
   "metadata": {},
   "source": [
    "##### Working with Sheets in Openpyxl"
   ]
  },
  {
   "cell_type": "markdown",
   "metadata": {},
   "source": [
    "###### 1. Changing Sheet Names"
   ]
  },
  {
   "cell_type": "code",
   "execution_count": 38,
   "metadata": {},
   "outputs": [
    {
     "name": "stdout",
     "output_type": "stream",
     "text": [
      "vgsales\n"
     ]
    }
   ],
   "source": [
    "print(ws.title)"
   ]
  },
  {
   "cell_type": "code",
   "execution_count": 39,
   "metadata": {},
   "outputs": [],
   "source": [
    "# Rename to the specified title\n",
    "ws.title ='Video Game Sales Data'\n",
    "\n",
    "wb.save(\"../data/videogamesales.xlsx\")"
   ]
  },
  {
   "cell_type": "markdown",
   "metadata": {},
   "source": [
    "###### 2. Creating a New Worksheet"
   ]
  },
  {
   "cell_type": "code",
   "execution_count": 40,
   "metadata": {},
   "outputs": [
    {
     "name": "stdout",
     "output_type": "stream",
     "text": [
      "['Video Game Sales Data', 'Total Sales by Genre', 'Breakdown of Sales by Genre', 'Breakdown of Sales by Year']\n"
     ]
    }
   ],
   "source": [
    "# List all available sheets\n",
    "print(wb.sheetnames)"
   ]
  },
  {
   "cell_type": "markdown",
   "metadata": {},
   "source": [
    "###### Let’s now create a new empty worksheet"
   ]
  },
  {
   "cell_type": "code",
   "execution_count": 43,
   "metadata": {},
   "outputs": [
    {
     "name": "stdout",
     "output_type": "stream",
     "text": [
      "['Video Game Sales Data', 'Total Sales by Genre', 'Breakdown of Sales by Genre', 'Breakdown of Sales by Year', 'Empty Sheet', 'Empty Sheet1']\n"
     ]
    }
   ],
   "source": [
    "wb.create_sheet('Empty Sheet') # create an empty sheet\n",
    "print(wb.sheetnames) # print sheet names again\n",
    "\n",
    "wb.save(\"../data/videogamesales.xlsx\")"
   ]
  },
  {
   "cell_type": "markdown",
   "metadata": {},
   "source": [
    "###### 3. Deleting a Worksheet"
   ]
  },
  {
   "cell_type": "code",
   "execution_count": 44,
   "metadata": {},
   "outputs": [
    {
     "name": "stdout",
     "output_type": "stream",
     "text": [
      "['Video Game Sales Data', 'Total Sales by Genre', 'Breakdown of Sales by Genre', 'Breakdown of Sales by Year', 'Empty Sheet1']\n"
     ]
    }
   ],
   "source": [
    "wb.remove(wb['Empty Sheet'])\n",
    "print(wb.sheetnames)\n",
    "\n",
    "wb.save(\"../data/videogamesales.xlsx\")"
   ]
  },
  {
   "cell_type": "markdown",
   "metadata": {},
   "source": [
    "###### 4. Duplicating a Worksheet"
   ]
  },
  {
   "cell_type": "code",
   "execution_count": 45,
   "metadata": {},
   "outputs": [],
   "source": [
    "wb.copy_worksheet(wb['Video Game Sales Data'])\n",
    "wb.save('../data/vgsales_2.xlsx')"
   ]
  },
  {
   "cell_type": "markdown",
   "metadata": {},
   "source": [
    "#### Adding Charts to an Excel File with Openpyxl"
   ]
  },
  {
   "cell_type": "markdown",
   "metadata": {},
   "source": [
    "###### 1. Bar Chart"
   ]
  },
  {
   "cell_type": "code",
   "execution_count": 63,
   "metadata": {},
   "outputs": [],
   "source": [
    "wb = openpyxl.load_workbook(\"../data/videogamesales.xlsx\")\n",
    "\n",
    "ws = wb['Total Sales by Genre'] # access the required worksheet"
   ]
  },
  {
   "cell_type": "code",
   "execution_count": 64,
   "metadata": {},
   "outputs": [],
   "source": [
    "# Values for plotting\n",
    "\n",
    "from openpyxl.chart import Reference\n",
    "\n",
    "values = Reference(ws,         # worksheet object   \n",
    "                   min_col=2,  # minimum column where your values begin\n",
    "                   max_col=2,  # maximum column where your values end\n",
    "                   min_row=1,  # minimum row you’d like to plot from\n",
    "                   max_row=13) # maximum row you’d like to plot from"
   ]
  },
  {
   "cell_type": "code",
   "execution_count": 65,
   "metadata": {},
   "outputs": [
    {
     "data": {
      "text/plain": [
       "'Total Sales by Genre'!$B$1:$B$13"
      ]
     },
     "execution_count": 65,
     "metadata": {},
     "output_type": "execute_result"
    }
   ],
   "source": [
    "values"
   ]
  },
  {
   "cell_type": "code",
   "execution_count": 66,
   "metadata": {},
   "outputs": [],
   "source": [
    "cats = Reference(ws, \n",
    "                 min_col=1, \n",
    "                 max_col=1, \n",
    "                 min_row=2, \n",
    "                 max_row=13)"
   ]
  },
  {
   "cell_type": "code",
   "execution_count": 67,
   "metadata": {},
   "outputs": [
    {
     "data": {
      "text/plain": [
       "'Total Sales by Genre'!$A$2:$A$13"
      ]
     },
     "execution_count": 67,
     "metadata": {},
     "output_type": "execute_result"
    }
   ],
   "source": [
    "cats"
   ]
  },
  {
   "cell_type": "code",
   "execution_count": 68,
   "metadata": {},
   "outputs": [],
   "source": [
    "from openpyxl.chart import BarChart\n",
    "\n",
    "# Create chat\n",
    "chart = BarChart()\n",
    "chart.add_data(data=values, titles_from_data=True)\n",
    "chart.set_categories(cats)"
   ]
  },
  {
   "cell_type": "code",
   "execution_count": 69,
   "metadata": {},
   "outputs": [],
   "source": [
    "# Set chat attributes\n",
    "\n",
    "# set the title of the chart\n",
    "chart.title = \"Total Sales\"\n",
    "\n",
    "# set the title of the x-axis\n",
    "chart.x_axis.title = \"Genre\"\n",
    "\n",
    "# set the title of the y-axis\n",
    "chart.y_axis.title = \"Total Sales by Genre\"\n",
    "\n",
    "# the top-left corner of the chart\n",
    "# is anchored to cell D2 .\n",
    "ws.add_chart(chart,\"D2\")\n",
    "\n",
    "# save the file \n",
    "wb.save(\"../data/videogamesales.xlsx\")"
   ]
  },
  {
   "cell_type": "markdown",
   "metadata": {},
   "source": [
    "###### 1. Group Chat"
   ]
  },
  {
   "cell_type": "code",
   "execution_count": 89,
   "metadata": {},
   "outputs": [],
   "source": [
    "wb = openpyxl.load_workbook(\"../data/videogamesales.xlsx\")\n",
    "ws = wb['Breakdown of Sales by Genre']\n",
    "\n",
    "values = Reference(\n",
    "    ws,\n",
    "    min_col=2,\n",
    "    max_col=5,\n",
    "    min_row=1,\n",
    "    max_row=13\n",
    ")\n",
    "\n",
    "cats = Reference(\n",
    "    ws,\n",
    "    min_col=1,\n",
    "    max_col=1,\n",
    "    min_row=2,\n",
    "    max_row=13\n",
    ")"
   ]
  },
  {
   "cell_type": "code",
   "execution_count": 90,
   "metadata": {},
   "outputs": [],
   "source": [
    "# Create object of BarChart class\n",
    "\n",
    "chart = BarChart()\n",
    "chart.add_data(values, titles_from_data=True)\n",
    "chart.set_categories(cats)\n",
    "\n",
    "# set the title of the chart\n",
    "chart.title = \"Sales Breakdown\"\n",
    "\n",
    "# set the title of the x-axis\n",
    "chart.x_axis.title = \"Genre\"\n",
    "\n",
    "# set the title of the y-axis\n",
    "chart.y_axis.title = \"Breakdown of Sales by Genre\"\n",
    "\n",
    "# the top-left corner of the chart is anchored to cell H2.\n",
    "ws.add_chart(chart,\"H2\")\n",
    "\n",
    "# save the file \n",
    "wb.save(\"../data/videogamesales.xlsx\")"
   ]
  },
  {
   "cell_type": "markdown",
   "metadata": {},
   "source": [
    "###### Stacked Line Chart"
   ]
  },
  {
   "cell_type": "code",
   "execution_count": 106,
   "metadata": {},
   "outputs": [],
   "source": [
    "ws = wb['Breakdown of Sales by Year']\n",
    "\n",
    "values = Reference(\n",
    "    ws,\n",
    "    min_col=2,\n",
    "    max_col=5,\n",
    "    min_row=2,\n",
    "    max_row=41\n",
    ")\n",
    "\n",
    "cats = Reference(\n",
    "    ws,\n",
    "    min_col=1,\n",
    "    max_col=1,\n",
    "    min_row=3,\n",
    "    max_row=43\n",
    ")"
   ]
  },
  {
   "cell_type": "code",
   "execution_count": 107,
   "metadata": {},
   "outputs": [
    {
     "data": {
      "text/plain": [
       "('Breakdown of Sales by Year'!$B$2:$E$41,\n",
       " 'Breakdown of Sales by Year'!$A$3:$A$43)"
      ]
     },
     "execution_count": 107,
     "metadata": {},
     "output_type": "execute_result"
    }
   ],
   "source": [
    "values, cats"
   ]
  },
  {
   "cell_type": "code",
   "execution_count": 108,
   "metadata": {},
   "outputs": [],
   "source": [
    "# Create object of LineChart class\n",
    "\n",
    "from openpyxl.chart import LineChart\n",
    "\n",
    "chart = LineChart()\n",
    "chart.add_data(values, titles_from_data=True)\n",
    "chart.set_categories(cats)\n",
    "\n",
    "# set the title of the chart\n",
    "chart.title = \"Total Sales\"\n",
    "\n",
    "# set the title of the x-axis\n",
    "chart.x_axis.title = \"Year\"\n",
    "\n",
    "# set the title of the y-axis\n",
    "chart.y_axis.title = \"Total Sales by Year\"\n",
    "\n",
    "# the top-left corner of the chart is anchored to cell H2 \n",
    "ws.add_chart(chart,\"H2\")\n",
    "\n",
    "# save the file \n",
    "wb.save(\"../data/videogamesales.xlsx\")"
   ]
  },
  {
   "cell_type": "markdown",
   "metadata": {},
   "source": [
    "#### Styling\n",
    "\n",
    "1. Changing font type"
   ]
  },
  {
   "cell_type": "code",
   "execution_count": 111,
   "metadata": {},
   "outputs": [],
   "source": [
    "from openpyxl.styles import Font\n",
    "\n",
    "ws = wb['vgsales']\n",
    "ws['A1'].font = Font(bold=True, size=12)\n",
    "\n",
    "wb.save(\"../data/videogamesales.xlsx\")"
   ]
  },
  {
   "cell_type": "code",
   "execution_count": 118,
   "metadata": {},
   "outputs": [],
   "source": [
    "# For all column headers\n",
    "for cell in ws[\"1:1\"]: \n",
    "    cell.font = Font(bold=True, size=12)\n",
    "    \n",
    "wb.save(\"../data/videogamesales.xlsx\")"
   ]
  },
  {
   "cell_type": "markdown",
   "metadata": {},
   "source": [
    "###### Changing Font Color"
   ]
  },
  {
   "cell_type": "code",
   "execution_count": 117,
   "metadata": {},
   "outputs": [],
   "source": [
    "from openpyxl.styles import colors\n",
    "\n",
    "ws['A1'].font = Font(color = 'FF0000',bold=True, size=12) ## red\n",
    "ws['A2'].font = Font(color = '0000FF') ## blue\n",
    "\n",
    "wb.save(\"../data/videogamesales.xlsx\")"
   ]
  },
  {
   "cell_type": "markdown",
   "metadata": {},
   "source": [
    "###### Adding Cell Boarder"
   ]
  },
  {
   "cell_type": "code",
   "execution_count": 120,
   "metadata": {},
   "outputs": [],
   "source": [
    "from openpyxl.styles import Border, Side\n",
    "\n",
    "my_border = Side(border_style=\"thin\", color=\"000000\")\n",
    "\n",
    "ws[\"A1\"].border = Border(\n",
    "    top=my_border, left=my_border, right=my_border, bottom=my_border\n",
    ")\n",
    "\n",
    "wb.save(\"../data/videogamesales.xlsx\")"
   ]
  },
  {
   "cell_type": "code",
   "execution_count": 121,
   "metadata": {},
   "outputs": [],
   "source": [
    "from openpyxl.formatting.rule import CellIsRule\n",
    "from openpyxl.styles import PatternFill\n",
    "\n",
    "\n",
    "fill = PatternFill(\n",
    "    start_color='90EE90',\n",
    "    end_color='90EE90',fill_type='solid') # specify background color\n",
    "\n",
    "ws.conditional_formatting.add(\n",
    "    'G2:K16594', CellIsRule(\n",
    "        operator='greaterThan', \n",
    "        formula=[8], \n",
    "        fill=fill\n",
    "    )\n",
    ")\n",
    "\n",
    "\n",
    "wb.save(\"../data/videogamesales.xlsx\") "
   ]
  },
  {
   "cell_type": "code",
   "execution_count": null,
   "metadata": {},
   "outputs": [],
   "source": []
  }
 ],
 "metadata": {
  "kernelspec": {
   "display_name": ".venv",
   "language": "python",
   "name": "python3"
  },
  "language_info": {
   "codemirror_mode": {
    "name": "ipython",
    "version": 3
   },
   "file_extension": ".py",
   "mimetype": "text/x-python",
   "name": "python",
   "nbconvert_exporter": "python",
   "pygments_lexer": "ipython3",
   "version": "3.10.12"
  }
 },
 "nbformat": 4,
 "nbformat_minor": 2
}
